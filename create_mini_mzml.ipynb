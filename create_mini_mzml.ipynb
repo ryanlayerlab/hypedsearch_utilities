{
 "cells": [
  {
   "cell_type": "code",
   "execution_count": 2,
   "metadata": {},
   "outputs": [
    {
     "name": "stdout",
     "output_type": "stream",
     "text": [
      "{http://psi.hupo.org/ms/mzml}indexedmzML\n",
      "{http://psi.hupo.org/ms/mzml}mzML {'id': 'testSpectraFileFixed', 'version': '1.1.0', '{http://www.w3.org/2001/XMLSchema-instance}schemaLocation': 'http://psi.hupo.org/ms/mzml http://psidev.info/files/ms/mzML/xsd/mzML1.1.0.xsd'}\n",
      "{http://psi.hupo.org/ms/mzml}indexList {'count': '1'}\n",
      "{http://psi.hupo.org/ms/mzml}indexListOffset {}\n",
      "{http://psi.hupo.org/ms/mzml}fileChecksum {}\n"
     ]
    }
   ],
   "source": [
    "from lxml import etree\n",
    "\n",
    "tree = etree.parse('NOD2_E3.mzml')\n",
    "root = tree.getroot()\n",
    "\n",
    "print(root.tag)\n",
    "\n",
    "for child in root:\n",
    "    print(child.tag, child.attrib)\n",
    "\n",
    "for spectrum in root.xpath('.//spectrum'):\n",
    "    print(spectrum.tag, spectrum.attrib)\n",
    "\n",
    "    for child in spectrum:\n",
    "        print(child.tag, child.text)"
   ]
  },
  {
   "cell_type": "code",
   "execution_count": 5,
   "metadata": {},
   "outputs": [
    {
     "name": "stdout",
     "output_type": "stream",
     "text": [
      "spectrum_list: <Element {http://psi.hupo.org/ms/mzml}spectrumList at 0x7fec9cd02d80>\n",
      "index_element: <Element {http://psi.hupo.org/ms/mzml}index at 0x7fec9cd03c00>\n",
      "Total spectra: 1086\n",
      "Total offsets: 1086\n"
     ]
    }
   ],
   "source": [
    "from lxml import etree\n",
    "\n",
    "tree = etree.parse('NOD2_E3.mzml')\n",
    "root = tree.getroot()\n",
    "\n",
    "namespaces = {'mzml': 'http://psi.hupo.org/ms/mzml'}\n",
    "\n",
    "spectrum_list = root.find('.//mzml:spectrumList', namespaces)\n",
    "index_element = root.find('.//mzml:indexList/mzml:index[@name=\"spectrum\"]', namespaces)\n",
    "\n",
    "print(\"spectrum_list:\", spectrum_list)\n",
    "print(\"index_element:\", index_element)\n",
    "\n",
    "if spectrum_list is not None:\n",
    "    spectrum_elements = spectrum_list.findall('mzml:spectrum', namespaces)\n",
    "    print(\"Total spectra:\", len(spectrum_elements))\n",
    "    for spectrum in spectrum_elements[5:]:\n",
    "        spectrum_list.remove(spectrum)\n",
    "\n",
    "if index_element is not None:\n",
    "    offset_elements = index_element.findall('mzml:offset', namespaces)\n",
    "    print(\"Total offsets:\", len(offset_elements))\n",
    "    for offset in offset_elements[5:]:\n",
    "        index_element.remove(offset)\n",
    "\n",
    "tree.write('mini_NOD2_E3.mzml', pretty_print=True, xml_declaration=True, encoding='UTF-8')\n"
   ]
  }
 ],
 "metadata": {
  "kernelspec": {
   "display_name": "base",
   "language": "python",
   "name": "python3"
  },
  "language_info": {
   "codemirror_mode": {
    "name": "ipython",
    "version": 3
   },
   "file_extension": ".py",
   "mimetype": "text/x-python",
   "name": "python",
   "nbconvert_exporter": "python",
   "pygments_lexer": "ipython3",
   "version": "3.10.11"
  }
 },
 "nbformat": 4,
 "nbformat_minor": 2
}
